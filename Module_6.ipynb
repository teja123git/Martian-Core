{
  "cells": [
    {
      "cell_type": "code",
      "execution_count": null,
      "metadata": {
        "id": "bHlFDpa8MoZ2"
      },
      "outputs": [],
      "source": [
        "import math\n",
        "from math import sin,cos\n",
        "import numpy as np\n",
        "import pandas as pd\n",
        "\n",
        "from sklearn.ensemble import RandomForestClassifier\n",
        "from sklearn.model_selection import train_test_split\n",
        "from sklearn.metrics import accuracy_score"
      ]
    },
    {
      "cell_type": "code",
      "execution_count": null,
      "metadata": {
        "id": "D3e8-dnsc63A"
      },
      "outputs": [],
      "source": [
        "def if_shadow(epilat, epilon, tarlat, tarlon):\n",
        "    R = 3389\n",
        "    rc = 1834\n",
        "    costhres = (2*(r*r)/R*R - 1)\n",
        "    threshold = np.arccos(costhres)\n",
        "    epilat = np.radians(epilat)\n",
        "    epilon = np.radians(epilon)\n",
        "    tarlat = np.radians(tarlat)\n",
        "    tarlon = np.radians(tarlon)\n",
        "\n",
        "    cosang = (np.sin(epilat)*np.sin(tarlat)) + (np.cos(epilat)*np.cos(tarlat)*np.cos(tarlon-epilon))\n",
        "\n",
        "    ang = np.arccos(cosang)\n",
        "\n",
        "    if(ang > threshold):\n",
        "        return 1\n",
        "    else:\n",
        "        return 0"
      ]
    },
    {
      "cell_type": "code",
      "execution_count": null,
      "metadata": {
        "colab": {
          "base_uri": "https://localhost:8080/"
        },
        "id": "9CjzsOJGp40R",
        "outputId": "efc6541c-4a5e-4ae6-ed65-2a2c18212034"
      },
      "outputs": [
        {
          "data": {
            "text/plain": [
              "1"
            ]
          },
          "execution_count": 33,
          "metadata": {},
          "output_type": "execute_result"
        }
      ],
      "source": [
        "if_shadow(90,0,-90,0)"
      ]
    },
    {
      "cell_type": "code",
      "execution_count": null,
      "metadata": {
        "id": "VHqig-0PvW3D"
      },
      "outputs": [],
      "source": [
        "np.random.seed(42)\n",
        "\n",
        "# Generate 500 random sources\n",
        "n_sources = 500\n",
        "sources = pd.DataFrame({\n",
        "    'source_lat': np.random.uniform(-90, 90, n_sources),\n",
        "    'source_lon': np.random.uniform(0, 360, n_sources)\n",
        "})\n",
        "\n",
        "dataset = []\n",
        "\n",
        "for _, source in sources.iterrows():\n",
        "    targets = pd.DataFrame({\n",
        "        'target_lat': np.random.uniform(-90, 90, 800),\n",
        "        'target_lon': np.random.uniform(0, 360, 800)\n",
        "    })\n",
        "\n",
        "    targets['flag'] = targets.apply(\n",
        "        lambda row: if_shadow(source['source_lat'], source['source_lon'], row['target_lat'], row['target_lon']),\n",
        "        axis=1\n",
        "    )\n",
        "\n",
        "    targets['source_lat'] = source['source_lat']\n",
        "    targets['source_lon'] = source['source_lon']\n",
        "\n",
        "    dataset.append(targets)\n",
        "\n",
        "df = pd.concat(dataset).reset_index(drop=True)\n"
      ]
    },
    {
      "cell_type": "code",
      "execution_count": null,
      "metadata": {
        "colab": {
          "base_uri": "https://localhost:8080/"
        },
        "id": "jDuPH9r3wiIO",
        "outputId": "ffcc0d0d-5275-4e43-a0d7-e66fba43c31b"
      },
      "outputs": [
        {
          "name": "stdout",
          "output_type": "stream",
          "text": [
            "Training Accuracy: 1.0000\n",
            "Test Accuracy: 0.9864\n"
          ]
        }
      ],
      "source": [
        "X=df[['source_lat', 'source_lon', 'target_lat', 'target_lon']]\n",
        "y=df['flag']\n",
        "\n",
        "X_train, X_test, y_train, y_test = train_test_split(X, y, test_size=0.2, random_state=42)\n",
        "\n",
        "model=RandomForestClassifier(n_estimators=100, random_state=42)\n",
        "model.fit(X_train, y_train)\n",
        "\n",
        "train_acc = model.score(X_train, y_train)\n",
        "test_acc = model.score(X_test, y_test)\n",
        "print(f\"Training Accuracy: {train_acc:.4f}\")\n",
        "print(f\"Test Accuracy: {test_acc:.4f}\")"
      ]
    },
    {
      "cell_type": "code",
      "execution_count": null,
      "metadata": {
        "id": "bAI9sEuS69Nr"
      },
      "outputs": [],
      "source": []
    }
  ],
  "metadata": {
    "colab": {
      "provenance": []
    },
    "kernelspec": {
      "display_name": "Python 3",
      "name": "python3"
    },
    "language_info": {
      "name": "python"
    }
  },
  "nbformat": 4,
  "nbformat_minor": 0
}
